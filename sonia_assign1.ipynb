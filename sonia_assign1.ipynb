version https://git-lfs.github.com/spec/v1
oid sha256:ddb253e3c5bfc9863bb8fb6f98c2f25f49fafc3d4c98e42a2fd99171b1251b95
size 596234
